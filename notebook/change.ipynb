{
 "cells": [
  {
   "cell_type": "markdown",
   "metadata": {},
   "source": [
    "# Petition Labeling"
   ]
  },
  {
   "cell_type": "code",
   "execution_count": 1,
   "metadata": {},
   "outputs": [
    {
     "data": {
      "text/html": [
       "<div>\n",
       "<style scoped>\n",
       "    .dataframe tbody tr th:only-of-type {\n",
       "        vertical-align: middle;\n",
       "    }\n",
       "\n",
       "    .dataframe tbody tr th {\n",
       "        vertical-align: top;\n",
       "    }\n",
       "\n",
       "    .dataframe thead th {\n",
       "        text-align: right;\n",
       "    }\n",
       "</style>\n",
       "<table border=\"1\" class=\"dataframe\">\n",
       "  <thead>\n",
       "    <tr style=\"text-align: right;\">\n",
       "      <th></th>\n",
       "      <th>petition_created_at</th>\n",
       "      <th>petition_id</th>\n",
       "      <th>title</th>\n",
       "      <th>description</th>\n",
       "      <th>total_signature_count</th>\n",
       "      <th>list_of_tags</th>\n",
       "      <th>label</th>\n",
       "    </tr>\n",
       "  </thead>\n",
       "  <tbody>\n",
       "    <tr>\n",
       "      <th>8887</th>\n",
       "      <td>2020-01-01T00:05:14</td>\n",
       "      <td>19876663</td>\n",
       "      <td>\"The City of Apple Valley Parks and Recreation...</td>\n",
       "      <td>\"&lt;p&gt;The South of the River Inclusive Playgroun...</td>\n",
       "      <td>2572</td>\n",
       "      <td>\"local\"</td>\n",
       "      <td>1</td>\n",
       "    </tr>\n",
       "    <tr>\n",
       "      <th>4951</th>\n",
       "      <td>2020-01-01T00:54:12</td>\n",
       "      <td>19876713</td>\n",
       "      <td>\"Rainforest trust: Saving our home the Rainfor...</td>\n",
       "      <td>\"&lt;p&gt;By saving the rainforest you save your fri...</td>\n",
       "      <td>567</td>\n",
       "      <td>\"Environment\"</td>\n",
       "      <td>0</td>\n",
       "    </tr>\n",
       "    <tr>\n",
       "      <th>168</th>\n",
       "      <td>2020-01-01T01:01:23</td>\n",
       "      <td>19876723</td>\n",
       "      <td>\"Her Excellency Queen Elizabeth II and, Govern...</td>\n",
       "      <td>\"&lt;p&gt;&lt;br&gt;Your Excellency, Our Queen,&lt;/p&gt;&lt;p&gt;We, ...</td>\n",
       "      <td>3243</td>\n",
       "      <td>\"politics\"</td>\n",
       "      <td>1</td>\n",
       "    </tr>\n",
       "    <tr>\n",
       "      <th>11205</th>\n",
       "      <td>2020-01-01T02:27:55</td>\n",
       "      <td>19878809</td>\n",
       "      <td>\"American Psycological Association: Narcissist...</td>\n",
       "      <td>\"&lt;p&gt;I am petitioning to make Narcissistic Abus...</td>\n",
       "      <td>642</td>\n",
       "      <td>\"Criminal Justice\"</td>\n",
       "      <td>0</td>\n",
       "    </tr>\n",
       "    <tr>\n",
       "      <th>3859</th>\n",
       "      <td>2020-01-01T03:41:33</td>\n",
       "      <td>19880880</td>\n",
       "      <td>\"Tim Walz: Minnesota's State Board of Investme...</td>\n",
       "      <td>\"&lt;p&gt;New York City is one of the only cities to...</td>\n",
       "      <td>1866</td>\n",
       "      <td>\"Environment\"</td>\n",
       "      <td>1</td>\n",
       "    </tr>\n",
       "  </tbody>\n",
       "</table>\n",
       "</div>"
      ],
      "text/plain": [
       "       petition_created_at  petition_id  \\\n",
       "8887   2020-01-01T00:05:14     19876663   \n",
       "4951   2020-01-01T00:54:12     19876713   \n",
       "168    2020-01-01T01:01:23     19876723   \n",
       "11205  2020-01-01T02:27:55     19878809   \n",
       "3859   2020-01-01T03:41:33     19880880   \n",
       "\n",
       "                                                   title  \\\n",
       "8887   \"The City of Apple Valley Parks and Recreation...   \n",
       "4951   \"Rainforest trust: Saving our home the Rainfor...   \n",
       "168    \"Her Excellency Queen Elizabeth II and, Govern...   \n",
       "11205  \"American Psycological Association: Narcissist...   \n",
       "3859   \"Tim Walz: Minnesota's State Board of Investme...   \n",
       "\n",
       "                                             description  \\\n",
       "8887   \"<p>The South of the River Inclusive Playgroun...   \n",
       "4951   \"<p>By saving the rainforest you save your fri...   \n",
       "168    \"<p><br>Your Excellency, Our Queen,</p><p>We, ...   \n",
       "11205  \"<p>I am petitioning to make Narcissistic Abus...   \n",
       "3859   \"<p>New York City is one of the only cities to...   \n",
       "\n",
       "       total_signature_count        list_of_tags  label  \n",
       "8887                    2572             \"local\"      1  \n",
       "4951                     567       \"Environment\"      0  \n",
       "168                     3243          \"politics\"      1  \n",
       "11205                    642  \"Criminal Justice\"      0  \n",
       "3859                    1866       \"Environment\"      1  "
      ]
     },
     "execution_count": 1,
     "metadata": {},
     "output_type": "execute_result"
    }
   ],
   "source": [
    "# imports\n",
    "import numpy as np\n",
    "import pandas as pd\n",
    "\n",
    "fname = \"./Dataset_recommendations_takehome_tags.csv\"\n",
    "df = pd.read_csv(fname, parse_dates=True, infer_datetime_format=True)\n",
    "df.sort_values(by='petition_created_at', inplace=True)\n",
    "df.head()"
   ]
  },
  {
   "cell_type": "markdown",
   "metadata": {},
   "source": [
    "## Some statistics:\n",
    "\n",
    "Abour 63% passed the quality threshold."
   ]
  },
  {
   "cell_type": "code",
   "execution_count": 3,
   "metadata": {},
   "outputs": [
    {
     "data": {
      "text/html": [
       "<div>\n",
       "<style scoped>\n",
       "    .dataframe tbody tr th:only-of-type {\n",
       "        vertical-align: middle;\n",
       "    }\n",
       "\n",
       "    .dataframe tbody tr th {\n",
       "        vertical-align: top;\n",
       "    }\n",
       "\n",
       "    .dataframe thead th {\n",
       "        text-align: right;\n",
       "    }\n",
       "</style>\n",
       "<table border=\"1\" class=\"dataframe\">\n",
       "  <thead>\n",
       "    <tr style=\"text-align: right;\">\n",
       "      <th></th>\n",
       "      <th>petition_id</th>\n",
       "      <th>total_signature_count</th>\n",
       "      <th>label</th>\n",
       "    </tr>\n",
       "  </thead>\n",
       "  <tbody>\n",
       "    <tr>\n",
       "      <th>count</th>\n",
       "      <td>1.288200e+04</td>\n",
       "      <td>1.288200e+04</td>\n",
       "      <td>12882.000000</td>\n",
       "    </tr>\n",
       "    <tr>\n",
       "      <th>mean</th>\n",
       "      <td>2.100668e+07</td>\n",
       "      <td>6.959238e+03</td>\n",
       "      <td>0.628474</td>\n",
       "    </tr>\n",
       "    <tr>\n",
       "      <th>std</th>\n",
       "      <td>5.628518e+05</td>\n",
       "      <td>4.995675e+04</td>\n",
       "      <td>0.483231</td>\n",
       "    </tr>\n",
       "    <tr>\n",
       "      <th>min</th>\n",
       "      <td>1.987666e+07</td>\n",
       "      <td>5.000000e+02</td>\n",
       "      <td>0.000000</td>\n",
       "    </tr>\n",
       "    <tr>\n",
       "      <th>25%</th>\n",
       "      <td>2.067506e+07</td>\n",
       "      <td>7.740000e+02</td>\n",
       "      <td>0.000000</td>\n",
       "    </tr>\n",
       "    <tr>\n",
       "      <th>50%</th>\n",
       "      <td>2.098250e+07</td>\n",
       "      <td>1.341500e+03</td>\n",
       "      <td>1.000000</td>\n",
       "    </tr>\n",
       "    <tr>\n",
       "      <th>75%</th>\n",
       "      <td>2.142445e+07</td>\n",
       "      <td>3.018250e+03</td>\n",
       "      <td>1.000000</td>\n",
       "    </tr>\n",
       "    <tr>\n",
       "      <th>max</th>\n",
       "      <td>2.212555e+07</td>\n",
       "      <td>3.188536e+06</td>\n",
       "      <td>1.000000</td>\n",
       "    </tr>\n",
       "  </tbody>\n",
       "</table>\n",
       "</div>"
      ],
      "text/plain": [
       "        petition_id  total_signature_count         label\n",
       "count  1.288200e+04           1.288200e+04  12882.000000\n",
       "mean   2.100668e+07           6.959238e+03      0.628474\n",
       "std    5.628518e+05           4.995675e+04      0.483231\n",
       "min    1.987666e+07           5.000000e+02      0.000000\n",
       "25%    2.067506e+07           7.740000e+02      0.000000\n",
       "50%    2.098250e+07           1.341500e+03      1.000000\n",
       "75%    2.142445e+07           3.018250e+03      1.000000\n",
       "max    2.212555e+07           3.188536e+06      1.000000"
      ]
     },
     "execution_count": 3,
     "metadata": {},
     "output_type": "execute_result"
    }
   ],
   "source": [
    "df.describe()"
   ]
  },
  {
   "cell_type": "markdown",
   "metadata": {},
   "source": [
    "## Isolating tags\n",
    "\n",
    "The `count_tags` function extracts all tages in the given data set and print the total nimber of tags"
   ]
  },
  {
   "cell_type": "code",
   "execution_count": 5,
   "metadata": {},
   "outputs": [
    {
     "name": "stdout",
     "output_type": "stream",
     "text": [
      "Total number of unique tags: 3660\n"
     ]
    }
   ],
   "source": [
    "def count_tags(df, exclude = set()):\n",
    "    tags = set()\n",
    "    all_tags = list(df['list_of_tags'])\n",
    "    tag_usage_counter = dict()\n",
    "    cnt = 0\n",
    "    for tgs in all_tags:\n",
    "        tgs = tgs.lower()\n",
    "        tgs = tgs.replace('\"', '')\n",
    "        list_tgs = set(tgs.split(', '))\n",
    "        for tg in list_tgs:\n",
    "            if tg in exclude:\n",
    "                continue\n",
    "            if tg in tag_usage_counter:\n",
    "                tag_usage_counter[tg] += 1\n",
    "            else:\n",
    "                tag_usage_counter[tg] = 1\n",
    "        tags = tags.union(list_tgs)\n",
    "        cnt += 1\n",
    "    print(\"Total number of unique tags: %d\"%(len(tags)))\n",
    "    return tags, tag_usage_counter\n",
    "count_tags(df);"
   ]
  },
  {
   "cell_type": "markdown",
   "metadata": {},
   "source": [
    "## Petitions labeled 1\n",
    "\n",
    "We select all those petitions that passed the quality threshold and extracts all of their tags "
   ]
  },
  {
   "cell_type": "code",
   "execution_count": 6,
   "metadata": {},
   "outputs": [
    {
     "name": "stdout",
     "output_type": "stream",
     "text": [
      "Total number of unique tags: 2698\n"
     ]
    }
   ],
   "source": [
    "high_quality_df = df[df['label']==1]\n",
    "_, h_tag_usage_counter = count_tags(high_quality_df)\n",
    "h_tag_pairs = [(k, h_tag_usage_counter[k]) for k in h_tag_usage_counter]\n",
    "h_tag_pairs.sort(key=lambda x:-x[1])"
   ]
  },
  {
   "cell_type": "markdown",
   "metadata": {},
   "source": [
    "Then, we select the top 100 tags with highest frequency:"
   ]
  },
  {
   "cell_type": "code",
   "execution_count": 7,
   "metadata": {},
   "outputs": [],
   "source": [
    "h_tags = set([_[0] for _ in h_tag_pairs[:100]])"
   ]
  },
  {
   "cell_type": "markdown",
   "metadata": {},
   "source": [
    "## Petitions labeled 0\n",
    "\n",
    "We select all those petitions that **did not** passed the quality threshold and extracts all of their tags "
   ]
  },
  {
   "cell_type": "code",
   "execution_count": 8,
   "metadata": {},
   "outputs": [
    {
     "name": "stdout",
     "output_type": "stream",
     "text": [
      "Total number of unique tags: 1584\n"
     ]
    }
   ],
   "source": [
    "low_quality_df = df[df['label']==0]\n",
    "_, l_tag_usage_counter = count_tags(low_quality_df, exclude=h_tags)\n",
    "l_tag_pairs = [(k, l_tag_usage_counter[k]) for k in l_tag_usage_counter]\n",
    "l_tag_pairs.sort(key=lambda x:-x[1])"
   ]
  },
  {
   "cell_type": "markdown",
   "metadata": {},
   "source": [
    "Then, we select the top 100 tags with highest frequency:"
   ]
  },
  {
   "cell_type": "code",
   "execution_count": 9,
   "metadata": {},
   "outputs": [],
   "source": [
    "l_tags = set([_[0] for _ in l_tag_pairs[:100]])"
   ]
  },
  {
   "cell_type": "markdown",
   "metadata": {},
   "source": [
    "## Turning top tags into features:\n",
    "\n",
    "Now, for each petition and for each high and low quality tags selected above, we add a *binary* feature whose value represents presence or absence of the tag in the given petition:"
   ]
  },
  {
   "cell_type": "code",
   "execution_count": 10,
   "metadata": {},
   "outputs": [
    {
     "data": {
      "text/html": [
       "<div>\n",
       "<style scoped>\n",
       "    .dataframe tbody tr th:only-of-type {\n",
       "        vertical-align: middle;\n",
       "    }\n",
       "\n",
       "    .dataframe tbody tr th {\n",
       "        vertical-align: top;\n",
       "    }\n",
       "\n",
       "    .dataframe thead th {\n",
       "        text-align: right;\n",
       "    }\n",
       "</style>\n",
       "<table border=\"1\" class=\"dataframe\">\n",
       "  <thead>\n",
       "    <tr style=\"text-align: right;\">\n",
       "      <th></th>\n",
       "      <th>petition_created_at</th>\n",
       "      <th>petition_id</th>\n",
       "      <th>title</th>\n",
       "      <th>description</th>\n",
       "      <th>total_signature_count</th>\n",
       "      <th>list_of_tags</th>\n",
       "      <th>label</th>\n",
       "      <th>covid-19 workers' rights</th>\n",
       "      <th>progressive values</th>\n",
       "      <th>workers rights</th>\n",
       "      <th>...</th>\n",
       "      <th>parks</th>\n",
       "      <th>nursing</th>\n",
       "      <th>plastic waste</th>\n",
       "      <th>police brutality</th>\n",
       "      <th>civil rights</th>\n",
       "      <th>graduation 2020</th>\n",
       "      <th>prison reform</th>\n",
       "      <th>food security</th>\n",
       "      <th>travel</th>\n",
       "      <th>evictions</th>\n",
       "    </tr>\n",
       "  </thead>\n",
       "  <tbody>\n",
       "    <tr>\n",
       "      <th>8887</th>\n",
       "      <td>2020-01-01T00:05:14</td>\n",
       "      <td>19876663</td>\n",
       "      <td>\"The City of Apple Valley Parks and Recreation...</td>\n",
       "      <td>\"&lt;p&gt;The South of the River Inclusive Playgroun...</td>\n",
       "      <td>2572</td>\n",
       "      <td>\"local\"</td>\n",
       "      <td>1</td>\n",
       "      <td>0.0</td>\n",
       "      <td>0.0</td>\n",
       "      <td>0.0</td>\n",
       "      <td>...</td>\n",
       "      <td>0.0</td>\n",
       "      <td>0.0</td>\n",
       "      <td>0.0</td>\n",
       "      <td>0.0</td>\n",
       "      <td>0.0</td>\n",
       "      <td>0.0</td>\n",
       "      <td>0.0</td>\n",
       "      <td>0.0</td>\n",
       "      <td>0.0</td>\n",
       "      <td>0.0</td>\n",
       "    </tr>\n",
       "    <tr>\n",
       "      <th>4951</th>\n",
       "      <td>2020-01-01T00:54:12</td>\n",
       "      <td>19876713</td>\n",
       "      <td>\"Rainforest trust: Saving our home the Rainfor...</td>\n",
       "      <td>\"&lt;p&gt;By saving the rainforest you save your fri...</td>\n",
       "      <td>567</td>\n",
       "      <td>\"Environment\"</td>\n",
       "      <td>0</td>\n",
       "      <td>0.0</td>\n",
       "      <td>0.0</td>\n",
       "      <td>0.0</td>\n",
       "      <td>...</td>\n",
       "      <td>0.0</td>\n",
       "      <td>0.0</td>\n",
       "      <td>0.0</td>\n",
       "      <td>0.0</td>\n",
       "      <td>0.0</td>\n",
       "      <td>0.0</td>\n",
       "      <td>0.0</td>\n",
       "      <td>0.0</td>\n",
       "      <td>0.0</td>\n",
       "      <td>0.0</td>\n",
       "    </tr>\n",
       "    <tr>\n",
       "      <th>168</th>\n",
       "      <td>2020-01-01T01:01:23</td>\n",
       "      <td>19876723</td>\n",
       "      <td>\"Her Excellency Queen Elizabeth II and, Govern...</td>\n",
       "      <td>\"&lt;p&gt;&lt;br&gt;Your Excellency, Our Queen,&lt;/p&gt;&lt;p&gt;We, ...</td>\n",
       "      <td>3243</td>\n",
       "      <td>\"politics\"</td>\n",
       "      <td>1</td>\n",
       "      <td>0.0</td>\n",
       "      <td>0.0</td>\n",
       "      <td>0.0</td>\n",
       "      <td>...</td>\n",
       "      <td>0.0</td>\n",
       "      <td>0.0</td>\n",
       "      <td>0.0</td>\n",
       "      <td>0.0</td>\n",
       "      <td>0.0</td>\n",
       "      <td>0.0</td>\n",
       "      <td>0.0</td>\n",
       "      <td>0.0</td>\n",
       "      <td>0.0</td>\n",
       "      <td>0.0</td>\n",
       "    </tr>\n",
       "    <tr>\n",
       "      <th>11205</th>\n",
       "      <td>2020-01-01T02:27:55</td>\n",
       "      <td>19878809</td>\n",
       "      <td>\"American Psycological Association: Narcissist...</td>\n",
       "      <td>\"&lt;p&gt;I am petitioning to make Narcissistic Abus...</td>\n",
       "      <td>642</td>\n",
       "      <td>\"Criminal Justice\"</td>\n",
       "      <td>0</td>\n",
       "      <td>0.0</td>\n",
       "      <td>0.0</td>\n",
       "      <td>0.0</td>\n",
       "      <td>...</td>\n",
       "      <td>0.0</td>\n",
       "      <td>0.0</td>\n",
       "      <td>0.0</td>\n",
       "      <td>0.0</td>\n",
       "      <td>0.0</td>\n",
       "      <td>0.0</td>\n",
       "      <td>0.0</td>\n",
       "      <td>0.0</td>\n",
       "      <td>0.0</td>\n",
       "      <td>0.0</td>\n",
       "    </tr>\n",
       "    <tr>\n",
       "      <th>3859</th>\n",
       "      <td>2020-01-01T03:41:33</td>\n",
       "      <td>19880880</td>\n",
       "      <td>\"Tim Walz: Minnesota's State Board of Investme...</td>\n",
       "      <td>\"&lt;p&gt;New York City is one of the only cities to...</td>\n",
       "      <td>1866</td>\n",
       "      <td>\"Environment\"</td>\n",
       "      <td>1</td>\n",
       "      <td>0.0</td>\n",
       "      <td>0.0</td>\n",
       "      <td>0.0</td>\n",
       "      <td>...</td>\n",
       "      <td>0.0</td>\n",
       "      <td>0.0</td>\n",
       "      <td>0.0</td>\n",
       "      <td>0.0</td>\n",
       "      <td>0.0</td>\n",
       "      <td>0.0</td>\n",
       "      <td>0.0</td>\n",
       "      <td>0.0</td>\n",
       "      <td>0.0</td>\n",
       "      <td>0.0</td>\n",
       "    </tr>\n",
       "  </tbody>\n",
       "</table>\n",
       "<p>5 rows × 207 columns</p>\n",
       "</div>"
      ],
      "text/plain": [
       "       petition_created_at  petition_id  \\\n",
       "8887   2020-01-01T00:05:14     19876663   \n",
       "4951   2020-01-01T00:54:12     19876713   \n",
       "168    2020-01-01T01:01:23     19876723   \n",
       "11205  2020-01-01T02:27:55     19878809   \n",
       "3859   2020-01-01T03:41:33     19880880   \n",
       "\n",
       "                                                   title  \\\n",
       "8887   \"The City of Apple Valley Parks and Recreation...   \n",
       "4951   \"Rainforest trust: Saving our home the Rainfor...   \n",
       "168    \"Her Excellency Queen Elizabeth II and, Govern...   \n",
       "11205  \"American Psycological Association: Narcissist...   \n",
       "3859   \"Tim Walz: Minnesota's State Board of Investme...   \n",
       "\n",
       "                                             description  \\\n",
       "8887   \"<p>The South of the River Inclusive Playgroun...   \n",
       "4951   \"<p>By saving the rainforest you save your fri...   \n",
       "168    \"<p><br>Your Excellency, Our Queen,</p><p>We, ...   \n",
       "11205  \"<p>I am petitioning to make Narcissistic Abus...   \n",
       "3859   \"<p>New York City is one of the only cities to...   \n",
       "\n",
       "       total_signature_count        list_of_tags  label  \\\n",
       "8887                    2572             \"local\"      1   \n",
       "4951                     567       \"Environment\"      0   \n",
       "168                     3243          \"politics\"      1   \n",
       "11205                    642  \"Criminal Justice\"      0   \n",
       "3859                    1866       \"Environment\"      1   \n",
       "\n",
       "       covid-19 workers' rights  progressive values  workers rights  ...  \\\n",
       "8887                        0.0                 0.0             0.0  ...   \n",
       "4951                        0.0                 0.0             0.0  ...   \n",
       "168                         0.0                 0.0             0.0  ...   \n",
       "11205                       0.0                 0.0             0.0  ...   \n",
       "3859                        0.0                 0.0             0.0  ...   \n",
       "\n",
       "       parks  nursing  plastic waste  police brutality  civil rights  \\\n",
       "8887     0.0      0.0            0.0               0.0           0.0   \n",
       "4951     0.0      0.0            0.0               0.0           0.0   \n",
       "168      0.0      0.0            0.0               0.0           0.0   \n",
       "11205    0.0      0.0            0.0               0.0           0.0   \n",
       "3859     0.0      0.0            0.0               0.0           0.0   \n",
       "\n",
       "       graduation 2020  prison reform  food security  travel  evictions  \n",
       "8887               0.0            0.0            0.0     0.0        0.0  \n",
       "4951               0.0            0.0            0.0     0.0        0.0  \n",
       "168                0.0            0.0            0.0     0.0        0.0  \n",
       "11205              0.0            0.0            0.0     0.0        0.0  \n",
       "3859               0.0            0.0            0.0     0.0        0.0  \n",
       "\n",
       "[5 rows x 207 columns]"
      ]
     },
     "execution_count": 10,
     "metadata": {},
     "output_type": "execute_result"
    }
   ],
   "source": [
    "def include_tag(x, tg):\n",
    "    tgs = x['list_of_tags'].replace('\"', '')\n",
    "    s_tgs = set(tgs.split(', '))\n",
    "    if tg in s_tgs:\n",
    "        return 1.\n",
    "    return 0.\n",
    "for tag in h_tags:\n",
    "    df[tag] = df.apply(lambda x, tg=tag: include_tag(x, tg), axis=1)\n",
    "for tag in l_tags:\n",
    "    df[tag] = df.apply(lambda x, tg=tag: include_tag(x, tg), axis=1)\n",
    "\n",
    "df.head()"
   ]
  },
  {
   "cell_type": "markdown",
   "metadata": {},
   "source": [
    "# The prepared data:\n",
    "\n",
    "Then we use `label` as a target for the classification and top high/low quality tags plus the nu,ber of signatures as features to feed some machine learning classifiers."
   ]
  },
  {
   "cell_type": "code",
   "execution_count": 11,
   "metadata": {},
   "outputs": [],
   "source": [
    "features = ['total_signature_count'] + list(h_tags) + list(l_tags)\n",
    "X = df[features].values\n",
    "y = df['label'].values"
   ]
  },
  {
   "cell_type": "markdown",
   "metadata": {},
   "source": [
    "# Gaussina Naive Bayes Classifier:"
   ]
  },
  {
   "cell_type": "code",
   "execution_count": 12,
   "metadata": {},
   "outputs": [
    {
     "name": "stdout",
     "output_type": "stream",
     "text": [
      "Accuracy for Naive Bayes: 0.926\n",
      "F1 for Naive Bayes: 0.938\n"
     ]
    }
   ],
   "source": [
    "from sklearn.naive_bayes import GaussianNB\n",
    "from sklearn.model_selection import train_test_split\n",
    "from sklearn.metrics import accuracy_score, f1_score, roc_auc_score, roc_curve, auc\n",
    "X_train, X_test, y_train, y_test = train_test_split(X, y, test_size=0.33)\n",
    "clf_nb = GaussianNB()\n",
    "clf_nb.fit(X_train, y_train)\n",
    "y_pred = clf_nb.predict(X_test)\n",
    "y_prob = clf_nb.predict_proba(X_test)\n",
    "print(\"Accuracy for Naive Bayes: %.3f\"% accuracy_score(y_test, y_pred))\n",
    "print(\"F1 for Naive Bayes: %.3f\"% f1_score(y_test, y_pred))"
   ]
  },
  {
   "cell_type": "markdown",
   "metadata": {},
   "source": [
    "# Logistic Regression Classifier:"
   ]
  },
  {
   "cell_type": "code",
   "execution_count": 13,
   "metadata": {},
   "outputs": [
    {
     "name": "stdout",
     "output_type": "stream",
     "text": [
      "Accuracy for Logistic Regression: 1.000\n",
      "F1 for Logistic Regression: 1.000\n"
     ]
    },
    {
     "name": "stderr",
     "output_type": "stream",
     "text": [
      "/home/mehdi/anaconda3/envs/MLSamples/lib/python3.7/site-packages/sklearn/linear_model/_logistic.py:940: ConvergenceWarning: lbfgs failed to converge (status=1):\n",
      "STOP: TOTAL NO. of ITERATIONS REACHED LIMIT.\n",
      "\n",
      "Increase the number of iterations (max_iter) or scale the data as shown in:\n",
      "    https://scikit-learn.org/stable/modules/preprocessing.html\n",
      "Please also refer to the documentation for alternative solver options:\n",
      "    https://scikit-learn.org/stable/modules/linear_model.html#logistic-regression\n",
      "  extra_warning_msg=_LOGISTIC_SOLVER_CONVERGENCE_MSG)\n"
     ]
    }
   ],
   "source": [
    "from sklearn.linear_model import LogisticRegression\n",
    "from sklearn.model_selection import train_test_split\n",
    "from sklearn.metrics import accuracy_score, f1_score, roc_auc_score, roc_curve, auc\n",
    "X_train, X_test, y_train, y_test = train_test_split(X, y, test_size=0.33)\n",
    "clf_log = LogisticRegression()\n",
    "clf_log.fit(X_train, y_train)\n",
    "y_pred = clf_log.predict(X_test)\n",
    "y_prob = clf_nb.predict_proba(X_test)\n",
    "print(\"Accuracy for Logistic Regression: %.3f\"% accuracy_score(y_test, y_pred))\n",
    "print(\"F1 for Logistic Regression: %.3f\"% f1_score(y_test, y_pred))\n",
    "##\n",
    "#preds = y_prob[:,1]\n",
    "#fpr, tpr, threshold = roc_curve(y_test, preds)\n",
    "#roc_auc = auc(fpr, tpr)\n",
    "\n",
    "# method I: plt\n",
    "#import matplotlib.pyplot as plt\n",
    "#plt.title('Receiver Operating Characteristic')\n",
    "#plt.plot(fpr, tpr, 'b', label = 'AUC = %0.2f' % roc_auc)\n",
    "#plt.legend(loc = 'lower right')\n",
    "#plt.plot([0, 1], [0, 1],'r--')\n",
    "#plt.xlim([0, 1])\n",
    "#plt.ylim([0, 1])\n",
    "#plt.ylabel('True Positive Rate')\n",
    "#plt.xlabel('False Positive Rate')"
   ]
  },
  {
   "cell_type": "markdown",
   "metadata": {},
   "source": [
    "The ~100% percent accuracy seems a bit surperising and requires more investigation to make sure that we are not overfitting data or the splitting the training/test data in a biased manner."
   ]
  },
  {
   "cell_type": "markdown",
   "metadata": {},
   "source": [
    "# Answeres to some of the question:\n",
    "\n",
    " **Q**: What kind of model would you use? What is your process for selection?\n",
    " \n",
    " > **A**: *Always* begin with simple models to get better insight about the complexity of the model.\n",
    " We tried Naive Bayes and Logistic Regression to classify the petitions based on their tags and number of signatures. We can explain the outcome of these two models statisticall and derive understandable decision.\n",
    " \n",
    " **Q**: What is your process for ensuring data quality?\n",
    " \n",
    "> **A**: In this time constrained exercise, I tried to avoid basic mistakes like ignoring lowe case/upper case similarities. But generally one can perform a text classification to group tags in a more scientific manner."
   ]
  },
  {
   "cell_type": "markdown",
   "metadata": {},
   "source": [
    "# For more details on the solution and possible improvement see the enclosed MS Word document."
   ]
  },
  {
   "cell_type": "code",
   "execution_count": null,
   "metadata": {},
   "outputs": [],
   "source": []
  }
 ],
 "metadata": {
  "kernelspec": {
   "display_name": "Python 3",
   "language": "python",
   "name": "python3"
  },
  "language_info": {
   "codemirror_mode": {
    "name": "ipython",
    "version": 3
   },
   "file_extension": ".py",
   "mimetype": "text/x-python",
   "name": "python",
   "nbconvert_exporter": "python",
   "pygments_lexer": "ipython3",
   "version": "3.7.7"
  }
 },
 "nbformat": 4,
 "nbformat_minor": 4
}
